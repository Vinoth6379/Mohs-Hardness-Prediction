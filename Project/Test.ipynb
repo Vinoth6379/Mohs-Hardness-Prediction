{
 "cells": [
  {
   "cell_type": "code",
   "execution_count": 10,
   "id": "d4aa13d6-9d97-42d8-bc12-a6998ed86451",
   "metadata": {},
   "outputs": [],
   "source": [
    "import pandas as pd\n",
    "import numpy as np\n",
    "import matplotlib.pyplot as plt\n",
    "import seaborn as sns\n",
    "from sklearn.model_selection import train_test_split\n",
    "from sklearn.preprocessing  import OneHotEncoder,StandardScaler\n",
    "from sklearn.linear_model import LinearRegression,Ridge,Lasso\n",
    "from joblib import dump, load\n",
    "from sklearn.metrics import r2_score"
   ]
  },
  {
   "cell_type": "code",
   "execution_count": 13,
   "id": "55cc3125-b765-48ed-a897-929d2061f908",
   "metadata": {},
   "outputs": [],
   "source": [
    "def evaluvation_pipeline(x_test_path,model):\n",
    "\n",
    "    #Read data\n",
    "    X=pd.read_csv(x_test_path)\n",
    "    \n",
    "    #seperate numerical columns\n",
    "    \n",
    "    numerical_cols=X.select_dtypes(exclude='object')\n",
    "    \n",
    "    \n",
    "    # numerical-- Scalling\n",
    "    model_scaling=load('standard_scaler.pkl')\n",
    "    scaled_data= model_scaling.transform(numerical_cols)\n",
    "    scaled_data=pd.DataFrame(scaled_data,columns=numerical_cols.columns)\n",
    "\n",
    "\n",
    "    # model testing\n",
    "    lr=load(model)\n",
    "    y_pred=pd.DataFrame(lr.predict(scaled_data))\n",
    "    #test_score=r2_score(y_true, y_pred)*100\n",
    "    \n",
    "    return y_pred"
   ]
  },
  {
   "cell_type": "code",
   "execution_count": 15,
   "id": "b72752bc-5fac-4d06-9efa-94508f5c2cc9",
   "metadata": {},
   "outputs": [],
   "source": [
    "y_pred=evaluvation_pipeline('X_test.csv','RF.pkl')"
   ]
  },
  {
   "cell_type": "code",
   "execution_count": 18,
   "id": "b0411f0c-1e0b-45b0-8076-0d96240fa2c4",
   "metadata": {},
   "outputs": [
    {
     "data": {
      "text/html": [
       "<div>\n",
       "<style scoped>\n",
       "    .dataframe tbody tr th:only-of-type {\n",
       "        vertical-align: middle;\n",
       "    }\n",
       "\n",
       "    .dataframe tbody tr th {\n",
       "        vertical-align: top;\n",
       "    }\n",
       "\n",
       "    .dataframe thead th {\n",
       "        text-align: right;\n",
       "    }\n",
       "</style>\n",
       "<table border=\"1\" class=\"dataframe\">\n",
       "  <thead>\n",
       "    <tr style=\"text-align: right;\">\n",
       "      <th></th>\n",
       "      <th>0</th>\n",
       "    </tr>\n",
       "  </thead>\n",
       "  <tbody>\n",
       "    <tr>\n",
       "      <th>0</th>\n",
       "      <td>4.954</td>\n",
       "    </tr>\n",
       "    <tr>\n",
       "      <th>1</th>\n",
       "      <td>2.701</td>\n",
       "    </tr>\n",
       "    <tr>\n",
       "      <th>2</th>\n",
       "      <td>5.908</td>\n",
       "    </tr>\n",
       "    <tr>\n",
       "      <th>3</th>\n",
       "      <td>4.890</td>\n",
       "    </tr>\n",
       "    <tr>\n",
       "      <th>4</th>\n",
       "      <td>2.588</td>\n",
       "    </tr>\n",
       "    <tr>\n",
       "      <th>...</th>\n",
       "      <td>...</td>\n",
       "    </tr>\n",
       "    <tr>\n",
       "      <th>89</th>\n",
       "      <td>3.284</td>\n",
       "    </tr>\n",
       "    <tr>\n",
       "      <th>90</th>\n",
       "      <td>1.593</td>\n",
       "    </tr>\n",
       "    <tr>\n",
       "      <th>91</th>\n",
       "      <td>3.935</td>\n",
       "    </tr>\n",
       "    <tr>\n",
       "      <th>92</th>\n",
       "      <td>3.571</td>\n",
       "    </tr>\n",
       "    <tr>\n",
       "      <th>93</th>\n",
       "      <td>3.503</td>\n",
       "    </tr>\n",
       "  </tbody>\n",
       "</table>\n",
       "<p>94 rows × 1 columns</p>\n",
       "</div>"
      ],
      "text/plain": [
       "        0\n",
       "0   4.954\n",
       "1   2.701\n",
       "2   5.908\n",
       "3   4.890\n",
       "4   2.588\n",
       "..    ...\n",
       "89  3.284\n",
       "90  1.593\n",
       "91  3.935\n",
       "92  3.571\n",
       "93  3.503\n",
       "\n",
       "[94 rows x 1 columns]"
      ]
     },
     "execution_count": 18,
     "metadata": {},
     "output_type": "execute_result"
    }
   ],
   "source": [
    "y_pred"
   ]
  },
  {
   "cell_type": "code",
   "execution_count": null,
   "id": "339fa112-a8b8-411d-9644-fde4a7050c07",
   "metadata": {},
   "outputs": [],
   "source": []
  },
  {
   "cell_type": "code",
   "execution_count": null,
   "id": "3c3324d2-0e1f-498b-990b-811cd959d9a8",
   "metadata": {},
   "outputs": [],
   "source": []
  }
 ],
 "metadata": {
  "kernelspec": {
   "display_name": "Python 3 (ipykernel)",
   "language": "python",
   "name": "python3"
  },
  "language_info": {
   "codemirror_mode": {
    "name": "ipython",
    "version": 3
   },
   "file_extension": ".py",
   "mimetype": "text/x-python",
   "name": "python",
   "nbconvert_exporter": "python",
   "pygments_lexer": "ipython3",
   "version": "3.11.4"
  }
 },
 "nbformat": 4,
 "nbformat_minor": 5
}
